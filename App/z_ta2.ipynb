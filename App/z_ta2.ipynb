{
 "cells": [
  {
   "cell_type": "markdown",
   "metadata": {},
   "source": [
    "# Import semua library dan data"
   ]
  },
  {
   "cell_type": "code",
   "execution_count": 1,
   "metadata": {},
   "outputs": [
    {
     "data": {
      "text/html": [
       "<div>\n",
       "<style scoped>\n",
       "    .dataframe tbody tr th:only-of-type {\n",
       "        vertical-align: middle;\n",
       "    }\n",
       "\n",
       "    .dataframe tbody tr th {\n",
       "        vertical-align: top;\n",
       "    }\n",
       "\n",
       "    .dataframe thead th {\n",
       "        text-align: right;\n",
       "    }\n",
       "</style>\n",
       "<table border=\"1\" class=\"dataframe\">\n",
       "  <thead>\n",
       "    <tr style=\"text-align: right;\">\n",
       "      <th></th>\n",
       "      <th>objek</th>\n",
       "      <th>nama</th>\n",
       "      <th>ulasan</th>\n",
       "      <th>rating</th>\n",
       "      <th>title</th>\n",
       "      <th>label</th>\n",
       "    </tr>\n",
       "  </thead>\n",
       "  <tbody>\n",
       "    <tr>\n",
       "      <th>0</th>\n",
       "      <td>air panas banjar</td>\n",
       "      <td>Harishna</td>\n",
       "      <td>Salah satu Tempat pemandian air panas di singa...</td>\n",
       "      <td>4</td>\n",
       "      <td>Lumayan</td>\n",
       "      <td>1</td>\n",
       "    </tr>\n",
       "    <tr>\n",
       "      <th>1</th>\n",
       "      <td>air panas banjar</td>\n",
       "      <td>ipapwirawan</td>\n",
       "      <td>Wajib dikunjungi jika sedang berada disekitar ...</td>\n",
       "      <td>4</td>\n",
       "      <td>Recommended</td>\n",
       "      <td>1</td>\n",
       "    </tr>\n",
       "    <tr>\n",
       "      <th>2</th>\n",
       "      <td>air panas banjar</td>\n",
       "      <td>wayanputrada</td>\n",
       "      <td>Tempat wisata ini cocok untuk refreshing dan b...</td>\n",
       "      <td>4</td>\n",
       "      <td>Tempat Untuk Bersantai</td>\n",
       "      <td>1</td>\n",
       "    </tr>\n",
       "    <tr>\n",
       "      <th>3</th>\n",
       "      <td>air panas banjar</td>\n",
       "      <td>Sudarta M</td>\n",
       "      <td>pemandangan di sekitar air panas banjar masih ...</td>\n",
       "      <td>5</td>\n",
       "      <td>natural hot spring</td>\n",
       "      <td>1</td>\n",
       "    </tr>\n",
       "    <tr>\n",
       "      <th>4</th>\n",
       "      <td>air panas banjar</td>\n",
       "      <td>parwatha</td>\n",
       "      <td>Datanglah ke airpanas banjar..sebelum mandi co...</td>\n",
       "      <td>4</td>\n",
       "      <td>Nikmati kopi sambil melihat kolam</td>\n",
       "      <td>1</td>\n",
       "    </tr>\n",
       "  </tbody>\n",
       "</table>\n",
       "</div>"
      ],
      "text/plain": [
       "              objek          nama  \\\n",
       "0  air panas banjar      Harishna   \n",
       "1  air panas banjar   ipapwirawan   \n",
       "2  air panas banjar  wayanputrada   \n",
       "3  air panas banjar     Sudarta M   \n",
       "4  air panas banjar      parwatha   \n",
       "\n",
       "                                              ulasan  rating  \\\n",
       "0  Salah satu Tempat pemandian air panas di singa...       4   \n",
       "1  Wajib dikunjungi jika sedang berada disekitar ...       4   \n",
       "2  Tempat wisata ini cocok untuk refreshing dan b...       4   \n",
       "3  pemandangan di sekitar air panas banjar masih ...       5   \n",
       "4  Datanglah ke airpanas banjar..sebelum mandi co...       4   \n",
       "\n",
       "                               title  label  \n",
       "0                            Lumayan      1  \n",
       "1                        Recommended      1  \n",
       "2             Tempat Untuk Bersantai      1  \n",
       "3                 natural hot spring      1  \n",
       "4  Nikmati kopi sambil melihat kolam      1  "
      ]
     },
     "execution_count": 1,
     "metadata": {},
     "output_type": "execute_result"
    }
   ],
   "source": [
    "import pandas as pd\n",
    "import numpy as np\n",
    "from pandas import DataFrame, read_csv\n",
    "\n",
    "# import StemmerFactory class\n",
    "from Sastrawi.Stemmer.StemmerFactory import StemmerFactory\n",
    "\n",
    "file = open(\"./AIR_PANAS_BANJAR.csv\")\n",
    "df = pd.read_csv(file)\n",
    "df = pd.DataFrame(data = df)\n",
    "df.head()"
   ]
  },
  {
   "cell_type": "code",
   "execution_count": 2,
   "metadata": {
    "scrolled": true
   },
   "outputs": [
    {
     "data": {
      "text/html": [
       "<div>\n",
       "<style scoped>\n",
       "    .dataframe tbody tr th:only-of-type {\n",
       "        vertical-align: middle;\n",
       "    }\n",
       "\n",
       "    .dataframe tbody tr th {\n",
       "        vertical-align: top;\n",
       "    }\n",
       "\n",
       "    .dataframe thead th {\n",
       "        text-align: right;\n",
       "    }\n",
       "</style>\n",
       "<table border=\"1\" class=\"dataframe\">\n",
       "  <thead>\n",
       "    <tr style=\"text-align: right;\">\n",
       "      <th></th>\n",
       "      <th>objek</th>\n",
       "      <th>ulasan</th>\n",
       "      <th>label</th>\n",
       "    </tr>\n",
       "  </thead>\n",
       "  <tbody>\n",
       "    <tr>\n",
       "      <th>0</th>\n",
       "      <td>air panas banjar</td>\n",
       "      <td>Salah satu Tempat pemandian air panas di singa...</td>\n",
       "      <td>1</td>\n",
       "    </tr>\n",
       "    <tr>\n",
       "      <th>1</th>\n",
       "      <td>air panas banjar</td>\n",
       "      <td>Wajib dikunjungi jika sedang berada disekitar ...</td>\n",
       "      <td>1</td>\n",
       "    </tr>\n",
       "    <tr>\n",
       "      <th>2</th>\n",
       "      <td>air panas banjar</td>\n",
       "      <td>Tempat wisata ini cocok untuk refreshing dan b...</td>\n",
       "      <td>1</td>\n",
       "    </tr>\n",
       "    <tr>\n",
       "      <th>3</th>\n",
       "      <td>air panas banjar</td>\n",
       "      <td>pemandangan di sekitar air panas banjar masih ...</td>\n",
       "      <td>1</td>\n",
       "    </tr>\n",
       "    <tr>\n",
       "      <th>4</th>\n",
       "      <td>air panas banjar</td>\n",
       "      <td>Datanglah ke airpanas banjar..sebelum mandi co...</td>\n",
       "      <td>1</td>\n",
       "    </tr>\n",
       "  </tbody>\n",
       "</table>\n",
       "</div>"
      ],
      "text/plain": [
       "              objek                                             ulasan  label\n",
       "0  air panas banjar  Salah satu Tempat pemandian air panas di singa...      1\n",
       "1  air panas banjar  Wajib dikunjungi jika sedang berada disekitar ...      1\n",
       "2  air panas banjar  Tempat wisata ini cocok untuk refreshing dan b...      1\n",
       "3  air panas banjar  pemandangan di sekitar air panas banjar masih ...      1\n",
       "4  air panas banjar  Datanglah ke airpanas banjar..sebelum mandi co...      1"
      ]
     },
     "execution_count": 2,
     "metadata": {},
     "output_type": "execute_result"
    }
   ],
   "source": [
    "df = df[['objek','ulasan','label']]\n",
    "df.head()"
   ]
  },
  {
   "cell_type": "code",
   "execution_count": 3,
   "metadata": {},
   "outputs": [
    {
     "data": {
      "text/html": [
       "<div>\n",
       "<style scoped>\n",
       "    .dataframe tbody tr th:only-of-type {\n",
       "        vertical-align: middle;\n",
       "    }\n",
       "\n",
       "    .dataframe tbody tr th {\n",
       "        vertical-align: top;\n",
       "    }\n",
       "\n",
       "    .dataframe thead th {\n",
       "        text-align: right;\n",
       "    }\n",
       "</style>\n",
       "<table border=\"1\" class=\"dataframe\">\n",
       "  <thead>\n",
       "    <tr style=\"text-align: right;\">\n",
       "      <th></th>\n",
       "      <th>objek</th>\n",
       "      <th>ulasan</th>\n",
       "      <th>label</th>\n",
       "    </tr>\n",
       "  </thead>\n",
       "  <tbody>\n",
       "    <tr>\n",
       "      <th>0</th>\n",
       "      <td>air panas banjar</td>\n",
       "      <td>salah satu tempat pemandian air panas di singa...</td>\n",
       "      <td>1</td>\n",
       "    </tr>\n",
       "    <tr>\n",
       "      <th>1</th>\n",
       "      <td>air panas banjar</td>\n",
       "      <td>wajib dikunjungi jika sedang berada disekitar ...</td>\n",
       "      <td>1</td>\n",
       "    </tr>\n",
       "    <tr>\n",
       "      <th>2</th>\n",
       "      <td>air panas banjar</td>\n",
       "      <td>tempat wisata ini cocok untuk refreshing dan b...</td>\n",
       "      <td>1</td>\n",
       "    </tr>\n",
       "    <tr>\n",
       "      <th>3</th>\n",
       "      <td>air panas banjar</td>\n",
       "      <td>pemandangan di sekitar air panas banjar masih ...</td>\n",
       "      <td>1</td>\n",
       "    </tr>\n",
       "    <tr>\n",
       "      <th>4</th>\n",
       "      <td>air panas banjar</td>\n",
       "      <td>datanglah ke airpanas banjar..sebelum mandi co...</td>\n",
       "      <td>1</td>\n",
       "    </tr>\n",
       "  </tbody>\n",
       "</table>\n",
       "</div>"
      ],
      "text/plain": [
       "              objek                                             ulasan  label\n",
       "0  air panas banjar  salah satu tempat pemandian air panas di singa...      1\n",
       "1  air panas banjar  wajib dikunjungi jika sedang berada disekitar ...      1\n",
       "2  air panas banjar  tempat wisata ini cocok untuk refreshing dan b...      1\n",
       "3  air panas banjar  pemandangan di sekitar air panas banjar masih ...      1\n",
       "4  air panas banjar  datanglah ke airpanas banjar..sebelum mandi co...      1"
      ]
     },
     "execution_count": 3,
     "metadata": {},
     "output_type": "execute_result"
    }
   ],
   "source": [
    "df['ulasan'] = df['ulasan'].str.lower()\n",
    "df.head()"
   ]
  },
  {
   "cell_type": "code",
   "execution_count": 4,
   "metadata": {
    "scrolled": false
   },
   "outputs": [
    {
     "data": {
      "text/html": [
       "<div>\n",
       "<style scoped>\n",
       "    .dataframe tbody tr th:only-of-type {\n",
       "        vertical-align: middle;\n",
       "    }\n",
       "\n",
       "    .dataframe tbody tr th {\n",
       "        vertical-align: top;\n",
       "    }\n",
       "\n",
       "    .dataframe thead th {\n",
       "        text-align: right;\n",
       "    }\n",
       "</style>\n",
       "<table border=\"1\" class=\"dataframe\">\n",
       "  <thead>\n",
       "    <tr style=\"text-align: right;\">\n",
       "      <th></th>\n",
       "      <th>objek</th>\n",
       "      <th>ulasan</th>\n",
       "      <th>label</th>\n",
       "    </tr>\n",
       "  </thead>\n",
       "  <tbody>\n",
       "    <tr>\n",
       "      <th>0</th>\n",
       "      <td>air panas banjar</td>\n",
       "      <td>salah satu tempat pemandian air panas di singa...</td>\n",
       "      <td>1</td>\n",
       "    </tr>\n",
       "    <tr>\n",
       "      <th>1</th>\n",
       "      <td>air panas banjar</td>\n",
       "      <td>wajib dikunjungi jika sedang berada disekitar ...</td>\n",
       "      <td>1</td>\n",
       "    </tr>\n",
       "    <tr>\n",
       "      <th>2</th>\n",
       "      <td>air panas banjar</td>\n",
       "      <td>tempat wisata ini cocok untuk refreshing dan b...</td>\n",
       "      <td>1</td>\n",
       "    </tr>\n",
       "    <tr>\n",
       "      <th>3</th>\n",
       "      <td>air panas banjar</td>\n",
       "      <td>pemandangan di sekitar air panas banjar masih ...</td>\n",
       "      <td>1</td>\n",
       "    </tr>\n",
       "    <tr>\n",
       "      <th>4</th>\n",
       "      <td>air panas banjar</td>\n",
       "      <td>datanglah ke airpanas banjar  sebelum mandi co...</td>\n",
       "      <td>1</td>\n",
       "    </tr>\n",
       "  </tbody>\n",
       "</table>\n",
       "</div>"
      ],
      "text/plain": [
       "              objek                                             ulasan  label\n",
       "0  air panas banjar  salah satu tempat pemandian air panas di singa...      1\n",
       "1  air panas banjar  wajib dikunjungi jika sedang berada disekitar ...      1\n",
       "2  air panas banjar  tempat wisata ini cocok untuk refreshing dan b...      1\n",
       "3  air panas banjar  pemandangan di sekitar air panas banjar masih ...      1\n",
       "4  air panas banjar  datanglah ke airpanas banjar  sebelum mandi co...      1"
      ]
     },
     "execution_count": 4,
     "metadata": {},
     "output_type": "execute_result"
    }
   ],
   "source": [
    "import re\n",
    "df['ulasan'] = df['ulasan'].apply(lambda x : re.sub(r\"(?:{})|([^\\w\\s.]+|_+)\",'',x))#remove selain titik seperti underscore\n",
    "df['ulasan'] = df['ulasan'].apply(lambda x : re.sub(r'[^\\w\\s]',' ',x))\n",
    "df.head()"
   ]
  },
  {
   "cell_type": "code",
   "execution_count": 5,
   "metadata": {},
   "outputs": [
    {
     "data": {
      "text/html": [
       "<div>\n",
       "<style scoped>\n",
       "    .dataframe tbody tr th:only-of-type {\n",
       "        vertical-align: middle;\n",
       "    }\n",
       "\n",
       "    .dataframe tbody tr th {\n",
       "        vertical-align: top;\n",
       "    }\n",
       "\n",
       "    .dataframe thead th {\n",
       "        text-align: right;\n",
       "    }\n",
       "</style>\n",
       "<table border=\"1\" class=\"dataframe\">\n",
       "  <thead>\n",
       "    <tr style=\"text-align: right;\">\n",
       "      <th></th>\n",
       "      <th>objek</th>\n",
       "      <th>ulasan</th>\n",
       "      <th>label</th>\n",
       "      <th>stemming</th>\n",
       "    </tr>\n",
       "  </thead>\n",
       "  <tbody>\n",
       "    <tr>\n",
       "      <th>0</th>\n",
       "      <td>air panas banjar</td>\n",
       "      <td>salah satu tempat pemandian air panas di singa...</td>\n",
       "      <td>1</td>\n",
       "      <td>salah satu tempat mandi air panas di singaraja...</td>\n",
       "    </tr>\n",
       "    <tr>\n",
       "      <th>1</th>\n",
       "      <td>air panas banjar</td>\n",
       "      <td>wajib dikunjungi jika sedang berada disekitar ...</td>\n",
       "      <td>1</td>\n",
       "      <td>wajib kunjung jika sedang ada sekitar singaraj...</td>\n",
       "    </tr>\n",
       "    <tr>\n",
       "      <th>2</th>\n",
       "      <td>air panas banjar</td>\n",
       "      <td>tempat wisata ini cocok untuk refreshing dan b...</td>\n",
       "      <td>1</td>\n",
       "      <td>tempat wisata ini cocok untuk refreshing dan s...</td>\n",
       "    </tr>\n",
       "    <tr>\n",
       "      <th>3</th>\n",
       "      <td>air panas banjar</td>\n",
       "      <td>pemandangan di sekitar air panas banjar masih ...</td>\n",
       "      <td>1</td>\n",
       "      <td>pandang di sekitar air panas banjar masih asri...</td>\n",
       "    </tr>\n",
       "    <tr>\n",
       "      <th>4</th>\n",
       "      <td>air panas banjar</td>\n",
       "      <td>datanglah ke airpanas banjar  sebelum mandi co...</td>\n",
       "      <td>1</td>\n",
       "      <td>datang ke airpanas banjar belum mandi coba dul...</td>\n",
       "    </tr>\n",
       "  </tbody>\n",
       "</table>\n",
       "</div>"
      ],
      "text/plain": [
       "              objek                                             ulasan  label  \\\n",
       "0  air panas banjar  salah satu tempat pemandian air panas di singa...      1   \n",
       "1  air panas banjar  wajib dikunjungi jika sedang berada disekitar ...      1   \n",
       "2  air panas banjar  tempat wisata ini cocok untuk refreshing dan b...      1   \n",
       "3  air panas banjar  pemandangan di sekitar air panas banjar masih ...      1   \n",
       "4  air panas banjar  datanglah ke airpanas banjar  sebelum mandi co...      1   \n",
       "\n",
       "                                            stemming  \n",
       "0  salah satu tempat mandi air panas di singaraja...  \n",
       "1  wajib kunjung jika sedang ada sekitar singaraj...  \n",
       "2  tempat wisata ini cocok untuk refreshing dan s...  \n",
       "3  pandang di sekitar air panas banjar masih asri...  \n",
       "4  datang ke airpanas banjar belum mandi coba dul...  "
      ]
     },
     "execution_count": 5,
     "metadata": {},
     "output_type": "execute_result"
    }
   ],
   "source": [
    "# create stemmer\n",
    "factory = StemmerFactory()\n",
    "stemmer = factory.create_stemmer()\n",
    "\n",
    "# stemming process\n",
    "#output   = stemmer.stem(sentence)\n",
    "df['stemming'] = df['ulasan'].apply(lambda x : stemmer.stem(x))\n",
    "df.head()"
   ]
  },
  {
   "cell_type": "code",
   "execution_count": 6,
   "metadata": {
    "scrolled": false
   },
   "outputs": [
    {
     "data": {
      "text/html": [
       "<div>\n",
       "<style scoped>\n",
       "    .dataframe tbody tr th:only-of-type {\n",
       "        vertical-align: middle;\n",
       "    }\n",
       "\n",
       "    .dataframe tbody tr th {\n",
       "        vertical-align: top;\n",
       "    }\n",
       "\n",
       "    .dataframe thead th {\n",
       "        text-align: right;\n",
       "    }\n",
       "</style>\n",
       "<table border=\"1\" class=\"dataframe\">\n",
       "  <thead>\n",
       "    <tr style=\"text-align: right;\">\n",
       "      <th></th>\n",
       "      <th>objek</th>\n",
       "      <th>ulasan</th>\n",
       "      <th>label</th>\n",
       "      <th>stemming</th>\n",
       "      <th>token</th>\n",
       "    </tr>\n",
       "  </thead>\n",
       "  <tbody>\n",
       "    <tr>\n",
       "      <th>0</th>\n",
       "      <td>air panas banjar</td>\n",
       "      <td>salah satu tempat pemandian air panas di singa...</td>\n",
       "      <td>1</td>\n",
       "      <td>salah satu tempat mandi air panas di singaraja...</td>\n",
       "      <td>[salah, satu, tempat, pemandian, air, panas, d...</td>\n",
       "    </tr>\n",
       "    <tr>\n",
       "      <th>1</th>\n",
       "      <td>air panas banjar</td>\n",
       "      <td>wajib dikunjungi jika sedang berada disekitar ...</td>\n",
       "      <td>1</td>\n",
       "      <td>wajib kunjung jika sedang ada sekitar singaraj...</td>\n",
       "      <td>[wajib, dikunjungi, jika, sedang, berada, dise...</td>\n",
       "    </tr>\n",
       "    <tr>\n",
       "      <th>2</th>\n",
       "      <td>air panas banjar</td>\n",
       "      <td>tempat wisata ini cocok untuk refreshing dan b...</td>\n",
       "      <td>1</td>\n",
       "      <td>tempat wisata ini cocok untuk refreshing dan s...</td>\n",
       "      <td>[tempat, wisata, ini, cocok, untuk, refreshing...</td>\n",
       "    </tr>\n",
       "    <tr>\n",
       "      <th>3</th>\n",
       "      <td>air panas banjar</td>\n",
       "      <td>pemandangan di sekitar air panas banjar masih ...</td>\n",
       "      <td>1</td>\n",
       "      <td>pandang di sekitar air panas banjar masih asri...</td>\n",
       "      <td>[pemandangan, di, sekitar, air, panas, banjar,...</td>\n",
       "    </tr>\n",
       "    <tr>\n",
       "      <th>4</th>\n",
       "      <td>air panas banjar</td>\n",
       "      <td>datanglah ke airpanas banjar  sebelum mandi co...</td>\n",
       "      <td>1</td>\n",
       "      <td>datang ke airpanas banjar belum mandi coba dul...</td>\n",
       "      <td>[datanglah, ke, airpanas, banjar, sebelum, man...</td>\n",
       "    </tr>\n",
       "  </tbody>\n",
       "</table>\n",
       "</div>"
      ],
      "text/plain": [
       "              objek                                             ulasan  label  \\\n",
       "0  air panas banjar  salah satu tempat pemandian air panas di singa...      1   \n",
       "1  air panas banjar  wajib dikunjungi jika sedang berada disekitar ...      1   \n",
       "2  air panas banjar  tempat wisata ini cocok untuk refreshing dan b...      1   \n",
       "3  air panas banjar  pemandangan di sekitar air panas banjar masih ...      1   \n",
       "4  air panas banjar  datanglah ke airpanas banjar  sebelum mandi co...      1   \n",
       "\n",
       "                                            stemming  \\\n",
       "0  salah satu tempat mandi air panas di singaraja...   \n",
       "1  wajib kunjung jika sedang ada sekitar singaraj...   \n",
       "2  tempat wisata ini cocok untuk refreshing dan s...   \n",
       "3  pandang di sekitar air panas banjar masih asri...   \n",
       "4  datang ke airpanas banjar belum mandi coba dul...   \n",
       "\n",
       "                                               token  \n",
       "0  [salah, satu, tempat, pemandian, air, panas, d...  \n",
       "1  [wajib, dikunjungi, jika, sedang, berada, dise...  \n",
       "2  [tempat, wisata, ini, cocok, untuk, refreshing...  \n",
       "3  [pemandangan, di, sekitar, air, panas, banjar,...  \n",
       "4  [datanglah, ke, airpanas, banjar, sebelum, man...  "
      ]
     },
     "execution_count": 6,
     "metadata": {},
     "output_type": "execute_result"
    }
   ],
   "source": [
    "df['token'] = df['ulasan'].apply(lambda x : x.split())\n",
    "df.head()"
   ]
  },
  {
   "cell_type": "code",
   "execution_count": 7,
   "metadata": {},
   "outputs": [
    {
     "data": {
      "text/plain": [
       "['wajib',\n",
       " 'dikunjungi',\n",
       " 'jika',\n",
       " 'sedang',\n",
       " 'berada',\n",
       " 'disekitar',\n",
       " 'singaraja',\n",
       " 'bagian',\n",
       " 'barat',\n",
       " 'tiket',\n",
       " 'masuknya',\n",
       " 'sangat',\n",
       " 'terjangkau',\n",
       " 'pilihan',\n",
       " 'kolamnya',\n",
       " 'sangat',\n",
       " 'banyak',\n",
       " 'air',\n",
       " 'panasnya',\n",
       " 'alami']"
      ]
     },
     "execution_count": 7,
     "metadata": {},
     "output_type": "execute_result"
    }
   ],
   "source": [
    "df['token'][1]"
   ]
  },
  {
   "cell_type": "code",
   "execution_count": 10,
   "metadata": {},
   "outputs": [
    {
     "name": "stdout",
     "output_type": "stream",
     "text": [
      "wajib kunjung jika sedang ada sekitar singaraja bagi barat tiket masuk sangat jangkau pilih kolam sangat banyak air panas alami\n"
     ]
    }
   ],
   "source": []
  },
  {
   "cell_type": "code",
   "execution_count": 30,
   "metadata": {},
   "outputs": [],
   "source": [
    "import re, string\n",
    "regex = re.compile('[%s]'% re.escape(string.punctuation))\n",
    "def remove_punctuation(s):\n",
    "    return regex.sub('', s)"
   ]
  },
  {
   "cell_type": "code",
   "execution_count": 31,
   "metadata": {},
   "outputs": [],
   "source": [
    "df[\"new_column\"] = df['ulasan'].str.replace('[^\\w\\s]','')"
   ]
  },
  {
   "cell_type": "code",
   "execution_count": 32,
   "metadata": {},
   "outputs": [
    {
     "data": {
      "text/html": [
       "<div>\n",
       "<style scoped>\n",
       "    .dataframe tbody tr th:only-of-type {\n",
       "        vertical-align: middle;\n",
       "    }\n",
       "\n",
       "    .dataframe tbody tr th {\n",
       "        vertical-align: top;\n",
       "    }\n",
       "\n",
       "    .dataframe thead th {\n",
       "        text-align: right;\n",
       "    }\n",
       "</style>\n",
       "<table border=\"1\" class=\"dataframe\">\n",
       "  <thead>\n",
       "    <tr style=\"text-align: right;\">\n",
       "      <th></th>\n",
       "      <th>objek</th>\n",
       "      <th>ulasan</th>\n",
       "      <th>label</th>\n",
       "      <th>new_column</th>\n",
       "    </tr>\n",
       "  </thead>\n",
       "  <tbody>\n",
       "    <tr>\n",
       "      <th>0</th>\n",
       "      <td>air panas banjar</td>\n",
       "      <td>salah satu tempat pemandian air panas di singa...</td>\n",
       "      <td>1</td>\n",
       "      <td>salah satu tempat pemandian air panas di singa...</td>\n",
       "    </tr>\n",
       "    <tr>\n",
       "      <th>1</th>\n",
       "      <td>air panas banjar</td>\n",
       "      <td>wajib dikunjungi jika sedang berada disekitar ...</td>\n",
       "      <td>1</td>\n",
       "      <td>wajib dikunjungi jika sedang berada disekitar ...</td>\n",
       "    </tr>\n",
       "    <tr>\n",
       "      <th>2</th>\n",
       "      <td>air panas banjar</td>\n",
       "      <td>tempat wisata ini cocok untuk refreshing dan b...</td>\n",
       "      <td>1</td>\n",
       "      <td>tempat wisata ini cocok untuk refreshing dan b...</td>\n",
       "    </tr>\n",
       "    <tr>\n",
       "      <th>3</th>\n",
       "      <td>air panas banjar</td>\n",
       "      <td>pemandangan di sekitar air panas banjar masih ...</td>\n",
       "      <td>1</td>\n",
       "      <td>pemandangan di sekitar air panas banjar masih ...</td>\n",
       "    </tr>\n",
       "    <tr>\n",
       "      <th>4</th>\n",
       "      <td>air panas banjar</td>\n",
       "      <td>datanglah ke airpanas banjar..sebelum mandi co...</td>\n",
       "      <td>1</td>\n",
       "      <td>datanglah ke airpanas banjarsebelum mandi coba...</td>\n",
       "    </tr>\n",
       "  </tbody>\n",
       "</table>\n",
       "</div>"
      ],
      "text/plain": [
       "              objek                                             ulasan  label  \\\n",
       "0  air panas banjar  salah satu tempat pemandian air panas di singa...      1   \n",
       "1  air panas banjar  wajib dikunjungi jika sedang berada disekitar ...      1   \n",
       "2  air panas banjar  tempat wisata ini cocok untuk refreshing dan b...      1   \n",
       "3  air panas banjar  pemandangan di sekitar air panas banjar masih ...      1   \n",
       "4  air panas banjar  datanglah ke airpanas banjar..sebelum mandi co...      1   \n",
       "\n",
       "                                          new_column  \n",
       "0  salah satu tempat pemandian air panas di singa...  \n",
       "1  wajib dikunjungi jika sedang berada disekitar ...  \n",
       "2  tempat wisata ini cocok untuk refreshing dan b...  \n",
       "3  pemandangan di sekitar air panas banjar masih ...  \n",
       "4  datanglah ke airpanas banjarsebelum mandi coba...  "
      ]
     },
     "execution_count": 32,
     "metadata": {},
     "output_type": "execute_result"
    }
   ],
   "source": [
    "df.head()"
   ]
  },
  {
   "cell_type": "code",
   "execution_count": 3,
   "metadata": {},
   "outputs": [
    {
     "data": {
      "text/html": [
       "<div>\n",
       "<style scoped>\n",
       "    .dataframe tbody tr th:only-of-type {\n",
       "        vertical-align: middle;\n",
       "    }\n",
       "\n",
       "    .dataframe tbody tr th {\n",
       "        vertical-align: top;\n",
       "    }\n",
       "\n",
       "    .dataframe thead th {\n",
       "        text-align: right;\n",
       "    }\n",
       "</style>\n",
       "<table border=\"1\" class=\"dataframe\">\n",
       "  <thead>\n",
       "    <tr style=\"text-align: right;\">\n",
       "      <th></th>\n",
       "      <th>objek</th>\n",
       "      <th>nama</th>\n",
       "      <th>ulasan</th>\n",
       "      <th>rating</th>\n",
       "      <th>title</th>\n",
       "      <th>label</th>\n",
       "    </tr>\n",
       "  </thead>\n",
       "  <tbody>\n",
       "    <tr>\n",
       "      <th>0</th>\n",
       "      <td>air panas banjar</td>\n",
       "      <td>Harishna</td>\n",
       "      <td>Salah satu Tempat pemandian air panas di singa...</td>\n",
       "      <td>4</td>\n",
       "      <td>Lumayan</td>\n",
       "      <td>1</td>\n",
       "    </tr>\n",
       "    <tr>\n",
       "      <th>1</th>\n",
       "      <td>air panas banjar</td>\n",
       "      <td>ipapwirawan</td>\n",
       "      <td>Wajib dikunjungi jika sedang berada disekitar ...</td>\n",
       "      <td>4</td>\n",
       "      <td>Recommended</td>\n",
       "      <td>1</td>\n",
       "    </tr>\n",
       "    <tr>\n",
       "      <th>2</th>\n",
       "      <td>air panas banjar</td>\n",
       "      <td>wayanputrada</td>\n",
       "      <td>Tempat wisata ini cocok untuk refreshing dan b...</td>\n",
       "      <td>4</td>\n",
       "      <td>Tempat Untuk Bersantai</td>\n",
       "      <td>1</td>\n",
       "    </tr>\n",
       "    <tr>\n",
       "      <th>3</th>\n",
       "      <td>air panas banjar</td>\n",
       "      <td>Sudarta M</td>\n",
       "      <td>pemandangan di sekitar air panas banjar masih ...</td>\n",
       "      <td>5</td>\n",
       "      <td>natural hot spring</td>\n",
       "      <td>1</td>\n",
       "    </tr>\n",
       "    <tr>\n",
       "      <th>4</th>\n",
       "      <td>air panas banjar</td>\n",
       "      <td>parwatha</td>\n",
       "      <td>Datanglah ke airpanas banjar..sebelum mandi co...</td>\n",
       "      <td>4</td>\n",
       "      <td>Nikmati kopi sambil melihat kolam</td>\n",
       "      <td>1</td>\n",
       "    </tr>\n",
       "  </tbody>\n",
       "</table>\n",
       "</div>"
      ],
      "text/plain": [
       "              objek          nama  \\\n",
       "0  air panas banjar      Harishna   \n",
       "1  air panas banjar   ipapwirawan   \n",
       "2  air panas banjar  wayanputrada   \n",
       "3  air panas banjar     Sudarta M   \n",
       "4  air panas banjar      parwatha   \n",
       "\n",
       "                                              ulasan  rating  \\\n",
       "0  Salah satu Tempat pemandian air panas di singa...       4   \n",
       "1  Wajib dikunjungi jika sedang berada disekitar ...       4   \n",
       "2  Tempat wisata ini cocok untuk refreshing dan b...       4   \n",
       "3  pemandangan di sekitar air panas banjar masih ...       5   \n",
       "4  Datanglah ke airpanas banjar..sebelum mandi co...       4   \n",
       "\n",
       "                               title  label  \n",
       "0                            Lumayan      1  \n",
       "1                        Recommended      1  \n",
       "2             Tempat Untuk Bersantai      1  \n",
       "3                 natural hot spring      1  \n",
       "4  Nikmati kopi sambil melihat kolam      1  "
      ]
     },
     "execution_count": 3,
     "metadata": {},
     "output_type": "execute_result"
    }
   ],
   "source": [
    "import pandas as pd\n",
    "dk = pd.read_csv(open('AIR_PANAS_BANJAR.csv'))\n",
    "dk.head()"
   ]
  },
  {
   "cell_type": "code",
   "execution_count": 4,
   "metadata": {},
   "outputs": [
    {
     "data": {
      "text/plain": [
       "'Wajib dikunjungi jika sedang berada disekitar Singaraja Bagian Barat, tiket masuknya sangat terjangkau, pilihan kolamnya sangat banyak. Air panasnya alami.'"
      ]
     },
     "execution_count": 4,
     "metadata": {},
     "output_type": "execute_result"
    }
   ],
   "source": [
    "dk['ulasan'][1]"
   ]
  },
  {
   "cell_type": "code",
   "execution_count": 9,
   "metadata": {
    "scrolled": true
   },
   "outputs": [
    {
     "data": {
      "text/plain": [
       "'wajib dikunjungi jika sedang berada disekitar singaraja bagian barat, tiket masuknya sangat terjangkau, pilihan kolamnya sangat banyak. air panasnya alami.'"
      ]
     },
     "execution_count": 9,
     "metadata": {},
     "output_type": "execute_result"
    }
   ],
   "source": [
    "dk['ulasan'][1].lower()"
   ]
  },
  {
   "cell_type": "code",
   "execution_count": 3,
   "metadata": {},
   "outputs": [
    {
     "name": "stdout",
     "output_type": "stream",
     "text": [
      "Original string: abcdef\n",
      "Translated string: idef\n"
     ]
    }
   ],
   "source": [
    "# first string\n",
    "firstString = \"abc\"\n",
    "secondString = \"ghi\"\n",
    "thirdString = \"ab\"\n",
    "\n",
    "string = \"abcdef\"\n",
    "print(\"Original string:\", string)\n",
    "\n",
    "translation = string.maketrans(firstString, secondString, thirdString)\n",
    "\n",
    "# translate string\n",
    "print(\"Translated string:\", string.translate(translation))"
   ]
  },
  {
   "cell_type": "code",
   "execution_count": 21,
   "metadata": {},
   "outputs": [
    {
     "name": "stdout",
     "output_type": "stream",
     "text": [
      "Datanglah ke airpanas   banjar  sebelum mandi coba dulu segelas kopi bali dengan pisang gorengnya atau fried banana   berbagai menu ada  makanan dan minuman  lets go\n"
     ]
    }
   ],
   "source": [
    "s = 'Datanglah ke airpanas ^_^  #@banjar..sebelum mandi coba dulu segelas kopi bali dengan pisang gorengnya atau fried banana...berbagai menu ada..makanan dan minuman..lets go'\n",
    "\n",
    "import re\n",
    "s = re.sub(r\"(?:{})|([^\\w\\s.]+|_+)\",'',s)#remove selain titik seperti underscore\n",
    "s = re.sub(r'[^\\w\\s]',' ',s)#remove titik\n",
    "print(s)"
   ]
  },
  {
   "cell_type": "code",
   "execution_count": 12,
   "metadata": {},
   "outputs": [
    {
     "name": "stdout",
     "output_type": "stream",
     "text": [
      "kata typo :  syg\n",
      "koreksi :  seg\n"
     ]
    }
   ],
   "source": [
    "import re\n",
    "from collections import Counter\n",
    "\n",
    "def words(text): return re.findall(r'\\w+', text.lower())\n",
    "\n",
    "WORDS = Counter(words(open('dataKata.txt').read()))\n",
    "\n",
    "def P(word, N=sum(WORDS.values())): \n",
    "    # \"Probability of `word`.\"\n",
    "    return WORDS[word] / N\n",
    "\n",
    "def correction(word): \n",
    "    # \"Most probable spelling correction for word.\"\n",
    "    return max(candidates(word), key=P)\n",
    "\n",
    "def candidates(word): \n",
    "    # \"Generate possible spelling corrections for word.\"\n",
    "    return (known([word]) or known(edits1(word)) or known(edits2(word)) or [word])\n",
    "\n",
    "def known(words): \n",
    "    # \"The subset of `words` that appear in the dictionary of WORDS.\"\n",
    "    return set(w for w in words if w in WORDS)\n",
    "\n",
    "def edits1(word):\n",
    "    # \"All edits that are one edit away from `word`.\"\n",
    "    letters    = 'abcdefghijklmnopqrstuvwxyz'\n",
    "    splits     = [(word[:i], word[i:])    for i in range(len(word) + 1)] # [('', 'kemarin'), ('k', 'emarin'), ('ke', 'marin'), dst]\n",
    "    deletes    = [L + R[1:]               for L, R in splits if R] # ['emarin', 'kmarin', 'kearin', dst]\n",
    "    transposes = [L + R[1] + R[0] + R[2:] for L, R in splits if len(R)>1] # ['ekmarin', 'kmearin', 'keamrin', dst]\n",
    "    replaces   = [L + c + R[1:]           for L, R in splits if R for c in letters] # ['aemarin', 'bemarin', 'cemarin', dst]\n",
    "    inserts    = [L + c + R               for L, R in splits for c in letters] # ['akemarin', 'bkemarin', 'ckemarin', dst]\n",
    "    return set(deletes + transposes + replaces + inserts)\n",
    "\n",
    "def edits2(word): \n",
    "    # \"All edits that are two edits away from `word`.\"\n",
    "    return (e2 for e1 in edits1(word) for e2 in edits1(e1))\n",
    "\n",
    "kata = 'syg'\n",
    "print('kata typo : ', kata)\n",
    "print('koreksi : ', correction(kata))"
   ]
  },
  {
   "cell_type": "code",
   "execution_count": 18,
   "metadata": {},
   "outputs": [
    {
     "name": "stdout",
     "output_type": "stream",
     "text": [
      "0.0\n",
      "0\n"
     ]
    }
   ],
   "source": [
    "from collections import Counter\n",
    "\n",
    "\n",
    "WORDS = Counter(words(open('dataKata.txt').read()))\n",
    "\n",
    "def P(word, N=sum(WORDS.values())): \n",
    "    # \"Probability of `word`.\"\n",
    "    return WORDS[word] / N\n",
    "\n",
    "print(P('mkan'))\n",
    "print(WORDS['mkan'])"
   ]
  }
 ],
 "metadata": {
  "kernelspec": {
   "display_name": "Python 3",
   "language": "python",
   "name": "python3"
  },
  "language_info": {
   "codemirror_mode": {
    "name": "ipython",
    "version": 3
   },
   "file_extension": ".py",
   "mimetype": "text/x-python",
   "name": "python",
   "nbconvert_exporter": "python",
   "pygments_lexer": "ipython3",
   "version": "3.7.0"
  }
 },
 "nbformat": 4,
 "nbformat_minor": 2
}
